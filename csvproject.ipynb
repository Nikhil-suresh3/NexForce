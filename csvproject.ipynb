{
  "nbformat": 4,
  "nbformat_minor": 0,
  "metadata": {
    "colab": {
      "provenance": [],
      "mount_file_id": "1B9SRY_LjcEqoO3NuwLR_CDawNPiDxMKj",
      "authorship_tag": "ABX9TyM9v1NUK5QxOQdJAN+sTvWS",
      "include_colab_link": true
    },
    "kernelspec": {
      "name": "python3",
      "display_name": "Python 3"
    },
    "language_info": {
      "name": "python"
    }
  },
  "cells": [
    {
      "cell_type": "markdown",
      "metadata": {
        "id": "view-in-github",
        "colab_type": "text"
      },
      "source": [
        "<a href=\"https://colab.research.google.com/github/Nikhil-suresh3/NexForce/blob/main/csvproject.ipynb\" target=\"_parent\"><img src=\"https://colab.research.google.com/assets/colab-badge.svg\" alt=\"Open In Colab\"/></a>"
      ]
    },
    {
      "cell_type": "code",
      "source": [
        "import pandas as pd\n",
        "from statistics import mean, median, mode\n"
      ],
      "metadata": {
        "id": "4zoAL9njmIlO"
      },
      "execution_count": null,
      "outputs": []
    },
    {
      "cell_type": "code",
      "source": [
        "path=\"/content/drive/MyDrive/Dataset/archive.csv\"\n",
        "data=pd.read_csv(path)\n",
        "\n",
        "data_height=data['Height(Inches)']\n",
        "data_weight=data['Weight(Pounds)']\n",
        "\n",
        "#To find Mean\n",
        "height_mean=mean(data_height)\n",
        "weight_mean=mean(data_weight)\n",
        "\n",
        "#To find median\n",
        "height_median=median(data_height)\n",
        "weight_median=median(data_weight)\n",
        "\n",
        "#to find mode\n",
        "height_mode=mode(data_height)\n",
        "weight_mode=mode(data_weight)\n",
        "\n",
        "print(\"**Height**\")\n",
        "print(\"mean:\",height_mean)\n",
        "print(\"median:\",height_median)\n",
        "print(\"mode:\",height_mode)\n",
        "\n",
        "print(\"\")\n",
        "print(\"**Weight**\")\n",
        "print(\"mean:\",weight_mean)\n",
        "print(\"median:\",weight_median)\n",
        "print(\"mode:\",weight_mode)"
      ],
      "metadata": {
        "colab": {
          "base_uri": "https://localhost:8080/"
        },
        "id": "xfojqY_Z4gNV",
        "outputId": "302750e0-21fa-4b2a-bee7-e69044514dd3"
      },
      "execution_count": 17,
      "outputs": [
        {
          "output_type": "stream",
          "name": "stdout",
          "text": [
            "**Height**\n",
            "mean: 67.9931135968\n",
            "median: 67.9957\n",
            "mode: 70.04724\n",
            "\n",
            "**Weight**\n",
            "mean: 127.0794211608\n",
            "median: 127.15775\n",
            "mode: 124.7975\n"
          ]
        }
      ]
    },
    {
      "cell_type": "code",
      "source": [],
      "metadata": {
        "id": "x_7-GZp94Woy"
      },
      "execution_count": null,
      "outputs": []
    },
    {
      "cell_type": "code",
      "execution_count": 10,
      "metadata": {
        "id": "SPQks5hMZa4B"
      },
      "outputs": [],
      "source": []
    }
  ]
}